{
 "cells": [
  {
   "cell_type": "code",
   "execution_count": 1,
   "metadata": {},
   "outputs": [
    {
     "name": "stdout",
     "output_type": "stream",
     "text": [
      "1\n",
      "2\n",
      "3\n",
      "4\n",
      "5\n",
      "6\n",
      "7\n",
      "8\n",
      "9\n",
      "10\n",
      "11\n",
      "12\n",
      "13\n",
      "14\n",
      "15\n",
      "16\n",
      "17\n",
      "18\n",
      "19\n",
      "20\n"
     ]
    }
   ],
   "source": [
    "import cv2\n",
    "import pandas as pd\n",
    "import face_recognition as fr\n",
    "import numpy as np\n",
    "file_name='database.csv'\n",
    "fd=cv2.CascadeClassifier(\n",
    "    cv2.data.haarcascades +\n",
    "    'haarcascade_frontalface_default.xml'\n",
    ")\n",
    "\n",
    "vid = cv2.VideoCapture(0)\n",
    "name = input('Enter your name:')\n",
    "frameLimit = 20\n",
    "frameCount = 0\n",
    "names = []\n",
    "enc = []\n",
    "while True:\n",
    "    flag, img = vid.read()\n",
    "    if flag:\n",
    "        img_gray = cv2.cvtColor(img, cv2.COLOR_BGR2GRAY)\n",
    "        faces = fd.detectMultiScale(\n",
    "            img_gray,\n",
    "            scaleFactor = 1.1,\n",
    "            minNeighbors = 5,\n",
    "            minSize = (50,50)\n",
    "        )\n",
    "        \n",
    "        if len(faces) == 1:\n",
    "            \n",
    "            \n",
    "            x,y,w,h = faces[0]\n",
    "            img_face = img[y:y+h,x:x+w,:].copy()\n",
    "            img_face = cv2.resize(img_face,(400,400), cv2.INTER_CUBIC)\n",
    "            face_encoding = fr.face_encodings(img_face)\n",
    "            if len(face_encoding) == 1:\n",
    "                enc.append(face_encoding[0])\n",
    "                names.append(name)\n",
    "                frameCount += 1\n",
    "                print(frameCount)\n",
    "                cv2.putText(img,str(frameCount),(50,50),cv2.FONT_HERSHEY_SIMPLEX,1.5,(0,0,255),8)\n",
    "                \n",
    "                if frameCount == frameLimit:\n",
    "                    data = {'names': names, 'encoding':enc}\n",
    "                    pd.DataFrame(data).to_csv('face_data.csv',sep='\\t')\n",
    "                    break\n",
    "            \n",
    "        for x1,y1,w,h in faces:\n",
    "            cv2.rectangle(\n",
    "                img, \n",
    "                pt1=(x,y), pt2=(x+w, y+h), \n",
    "                color = (0,0,255),\n",
    "                thickness=8\n",
    "            )\n",
    "        cv2.imshow('Preview', img)\n",
    "        key = cv2.waitKey(1)\n",
    "        if key == ord('q'):\n",
    "            break\n",
    "data = {'names': names, 'encoding':enc}\n",
    "pd.DataFrame(data).to_csv('face_data.csv')\n",
    "cv2.destroyAllWindows()\n",
    "cv2.waitKey(1)\n",
    "vid.release()"
   ]
  },
  {
   "cell_type": "code",
   "execution_count": 2,
   "metadata": {},
   "outputs": [
    {
     "data": {
      "text/html": [
       "<div>\n",
       "<style scoped>\n",
       "    .dataframe tbody tr th:only-of-type {\n",
       "        vertical-align: middle;\n",
       "    }\n",
       "\n",
       "    .dataframe tbody tr th {\n",
       "        vertical-align: top;\n",
       "    }\n",
       "\n",
       "    .dataframe thead th {\n",
       "        text-align: right;\n",
       "    }\n",
       "</style>\n",
       "<table border=\"1\" class=\"dataframe\">\n",
       "  <thead>\n",
       "    <tr style=\"text-align: right;\">\n",
       "      <th></th>\n",
       "      <th>names</th>\n",
       "      <th>encoding</th>\n",
       "    </tr>\n",
       "  </thead>\n",
       "  <tbody>\n",
       "    <tr>\n",
       "      <th>0</th>\n",
       "      <td>aaditya</td>\n",
       "      <td>[-0.09407637  0.11107247  0.06749565 -0.050773...</td>\n",
       "    </tr>\n",
       "    <tr>\n",
       "      <th>1</th>\n",
       "      <td>aaditya</td>\n",
       "      <td>[-1.44187197e-01  8.77695754e-02  6.23142682e-...</td>\n",
       "    </tr>\n",
       "    <tr>\n",
       "      <th>2</th>\n",
       "      <td>aaditya</td>\n",
       "      <td>[-0.11057214  0.11282709  0.06659857 -0.078045...</td>\n",
       "    </tr>\n",
       "    <tr>\n",
       "      <th>3</th>\n",
       "      <td>aaditya</td>\n",
       "      <td>[-0.11230355  0.11245424  0.11116942 -0.057210...</td>\n",
       "    </tr>\n",
       "    <tr>\n",
       "      <th>4</th>\n",
       "      <td>aaditya</td>\n",
       "      <td>[-0.10524287  0.12127906  0.10950326 -0.047747...</td>\n",
       "    </tr>\n",
       "    <tr>\n",
       "      <th>5</th>\n",
       "      <td>aaditya</td>\n",
       "      <td>[-0.12057774  0.1259571   0.121691   -0.059959...</td>\n",
       "    </tr>\n",
       "    <tr>\n",
       "      <th>6</th>\n",
       "      <td>aaditya</td>\n",
       "      <td>[-0.1080739   0.09346755  0.10690414 -0.052028...</td>\n",
       "    </tr>\n",
       "    <tr>\n",
       "      <th>7</th>\n",
       "      <td>aaditya</td>\n",
       "      <td>[-0.12794191  0.11028138  0.11491719 -0.043240...</td>\n",
       "    </tr>\n",
       "    <tr>\n",
       "      <th>8</th>\n",
       "      <td>aaditya</td>\n",
       "      <td>[-0.12669812  0.12645267  0.09677043 -0.057193...</td>\n",
       "    </tr>\n",
       "    <tr>\n",
       "      <th>9</th>\n",
       "      <td>aaditya</td>\n",
       "      <td>[-0.14444666  0.11212447  0.10802647 -0.026847...</td>\n",
       "    </tr>\n",
       "    <tr>\n",
       "      <th>10</th>\n",
       "      <td>aaditya</td>\n",
       "      <td>[-0.07763342  0.10167788  0.10173071 -0.049267...</td>\n",
       "    </tr>\n",
       "    <tr>\n",
       "      <th>11</th>\n",
       "      <td>aaditya</td>\n",
       "      <td>[-1.11968301e-01  9.11962092e-02  3.97731066e-...</td>\n",
       "    </tr>\n",
       "    <tr>\n",
       "      <th>12</th>\n",
       "      <td>aaditya</td>\n",
       "      <td>[-6.65191785e-02  8.33562016e-02  1.07691474e-...</td>\n",
       "    </tr>\n",
       "    <tr>\n",
       "      <th>13</th>\n",
       "      <td>aaditya</td>\n",
       "      <td>[-8.37228745e-02  9.78423283e-02  7.97705501e-...</td>\n",
       "    </tr>\n",
       "    <tr>\n",
       "      <th>14</th>\n",
       "      <td>aaditya</td>\n",
       "      <td>[-1.05948672e-01  1.38498709e-01  7.82439336e-...</td>\n",
       "    </tr>\n",
       "    <tr>\n",
       "      <th>15</th>\n",
       "      <td>aaditya</td>\n",
       "      <td>[-7.84176961e-02  1.68275744e-01  6.82973936e-...</td>\n",
       "    </tr>\n",
       "    <tr>\n",
       "      <th>16</th>\n",
       "      <td>aaditya</td>\n",
       "      <td>[-0.08878753  0.13579994  0.07533076 -0.054301...</td>\n",
       "    </tr>\n",
       "    <tr>\n",
       "      <th>17</th>\n",
       "      <td>aaditya</td>\n",
       "      <td>[-6.99281320e-02  1.28278762e-01  8.94300044e-...</td>\n",
       "    </tr>\n",
       "    <tr>\n",
       "      <th>18</th>\n",
       "      <td>aaditya</td>\n",
       "      <td>[-0.09553558  0.13393593  0.09422161 -0.039891...</td>\n",
       "    </tr>\n",
       "    <tr>\n",
       "      <th>19</th>\n",
       "      <td>aaditya</td>\n",
       "      <td>[-0.08440137  0.16668208  0.07745241 -0.041154...</td>\n",
       "    </tr>\n",
       "  </tbody>\n",
       "</table>\n",
       "</div>"
      ],
      "text/plain": [
       "      names                                           encoding\n",
       "0   aaditya  [-0.09407637  0.11107247  0.06749565 -0.050773...\n",
       "1   aaditya  [-1.44187197e-01  8.77695754e-02  6.23142682e-...\n",
       "2   aaditya  [-0.11057214  0.11282709  0.06659857 -0.078045...\n",
       "3   aaditya  [-0.11230355  0.11245424  0.11116942 -0.057210...\n",
       "4   aaditya  [-0.10524287  0.12127906  0.10950326 -0.047747...\n",
       "5   aaditya  [-0.12057774  0.1259571   0.121691   -0.059959...\n",
       "6   aaditya  [-0.1080739   0.09346755  0.10690414 -0.052028...\n",
       "7   aaditya  [-0.12794191  0.11028138  0.11491719 -0.043240...\n",
       "8   aaditya  [-0.12669812  0.12645267  0.09677043 -0.057193...\n",
       "9   aaditya  [-0.14444666  0.11212447  0.10802647 -0.026847...\n",
       "10  aaditya  [-0.07763342  0.10167788  0.10173071 -0.049267...\n",
       "11  aaditya  [-1.11968301e-01  9.11962092e-02  3.97731066e-...\n",
       "12  aaditya  [-6.65191785e-02  8.33562016e-02  1.07691474e-...\n",
       "13  aaditya  [-8.37228745e-02  9.78423283e-02  7.97705501e-...\n",
       "14  aaditya  [-1.05948672e-01  1.38498709e-01  7.82439336e-...\n",
       "15  aaditya  [-7.84176961e-02  1.68275744e-01  6.82973936e-...\n",
       "16  aaditya  [-0.08878753  0.13579994  0.07533076 -0.054301...\n",
       "17  aaditya  [-6.99281320e-02  1.28278762e-01  8.94300044e-...\n",
       "18  aaditya  [-0.09553558  0.13393593  0.09422161 -0.039891...\n",
       "19  aaditya  [-0.08440137  0.16668208  0.07745241 -0.041154..."
      ]
     },
     "execution_count": 2,
     "metadata": {},
     "output_type": "execute_result"
    }
   ],
   "source": [
    "face_data = pd.read_csv('face_data.csv', index_col=0)\n",
    "face_data"
   ]
  },
  {
   "cell_type": "code",
   "execution_count": 3,
   "metadata": {},
   "outputs": [
    {
     "ename": "UFuncTypeError",
     "evalue": "ufunc 'subtract' did not contain a loop with signature matching types (dtype('float64'), dtype('<U1552')) -> None",
     "output_type": "error",
     "traceback": [
      "\u001b[1;31m---------------------------------------------------------------------------\u001b[0m",
      "\u001b[1;31mUFuncTypeError\u001b[0m                            Traceback (most recent call last)",
      "\u001b[1;32md:\\ML\\day16.ipynb Cell 3\u001b[0m in \u001b[0;36m<cell line: 7>\u001b[1;34m()\u001b[0m\n\u001b[0;32m     <a href='vscode-notebook-cell:/d%3A/ML/day16.ipynb#W3sZmlsZQ%3D%3D?line=22'>23</a>\u001b[0m \u001b[39mif\u001b[39;00m \u001b[39mlen\u001b[39m(face_encoding) \u001b[39m==\u001b[39m \u001b[39m1\u001b[39m:\n\u001b[0;32m     <a href='vscode-notebook-cell:/d%3A/ML/day16.ipynb#W3sZmlsZQ%3D%3D?line=23'>24</a>\u001b[0m     \u001b[39mfor\u001b[39;00m ind, face_db \u001b[39min\u001b[39;00m face_data\u001b[39m.\u001b[39miterrows():\n\u001b[1;32m---> <a href='vscode-notebook-cell:/d%3A/ML/day16.ipynb#W3sZmlsZQ%3D%3D?line=24'>25</a>\u001b[0m         matched \u001b[39m=\u001b[39m fr\u001b[39m.\u001b[39;49mcompare_faces(\n\u001b[0;32m     <a href='vscode-notebook-cell:/d%3A/ML/day16.ipynb#W3sZmlsZQ%3D%3D?line=25'>26</a>\u001b[0m             face_encoding[\u001b[39m0\u001b[39;49m], face_db[\u001b[39m'\u001b[39;49m\u001b[39mencoding\u001b[39;49m\u001b[39m'\u001b[39;49m]\n\u001b[0;32m     <a href='vscode-notebook-cell:/d%3A/ML/day16.ipynb#W3sZmlsZQ%3D%3D?line=26'>27</a>\u001b[0m         )\n\u001b[0;32m     <a href='vscode-notebook-cell:/d%3A/ML/day16.ipynb#W3sZmlsZQ%3D%3D?line=27'>28</a>\u001b[0m         \u001b[39mif\u001b[39;00m matched:\n\u001b[0;32m     <a href='vscode-notebook-cell:/d%3A/ML/day16.ipynb#W3sZmlsZQ%3D%3D?line=28'>29</a>\u001b[0m             \u001b[39mprint\u001b[39m(face_db[\u001b[39m'\u001b[39m\u001b[39mname\u001b[39m\u001b[39m'\u001b[39m])\n",
      "File \u001b[1;32mc:\\Users\\91935\\AppData\\Local\\Programs\\Python\\Python310\\lib\\site-packages\\face_recognition\\api.py:226\u001b[0m, in \u001b[0;36mcompare_faces\u001b[1;34m(known_face_encodings, face_encoding_to_check, tolerance)\u001b[0m\n\u001b[0;32m    217\u001b[0m \u001b[39mdef\u001b[39;00m \u001b[39mcompare_faces\u001b[39m(known_face_encodings, face_encoding_to_check, tolerance\u001b[39m=\u001b[39m\u001b[39m0.6\u001b[39m):\n\u001b[0;32m    218\u001b[0m     \u001b[39m\"\"\"\u001b[39;00m\n\u001b[0;32m    219\u001b[0m \u001b[39m    Compare a list of face encodings against a candidate encoding to see if they match.\u001b[39;00m\n\u001b[0;32m    220\u001b[0m \n\u001b[1;32m   (...)\u001b[0m\n\u001b[0;32m    224\u001b[0m \u001b[39m    :return: A list of True/False values indicating which known_face_encodings match the face encoding to check\u001b[39;00m\n\u001b[0;32m    225\u001b[0m \u001b[39m    \"\"\"\u001b[39;00m\n\u001b[1;32m--> 226\u001b[0m     \u001b[39mreturn\u001b[39;00m \u001b[39mlist\u001b[39m(face_distance(known_face_encodings, face_encoding_to_check) \u001b[39m<\u001b[39m\u001b[39m=\u001b[39m tolerance)\n",
      "File \u001b[1;32mc:\\Users\\91935\\AppData\\Local\\Programs\\Python\\Python310\\lib\\site-packages\\face_recognition\\api.py:75\u001b[0m, in \u001b[0;36mface_distance\u001b[1;34m(face_encodings, face_to_compare)\u001b[0m\n\u001b[0;32m     72\u001b[0m \u001b[39mif\u001b[39;00m \u001b[39mlen\u001b[39m(face_encodings) \u001b[39m==\u001b[39m \u001b[39m0\u001b[39m:\n\u001b[0;32m     73\u001b[0m     \u001b[39mreturn\u001b[39;00m np\u001b[39m.\u001b[39mempty((\u001b[39m0\u001b[39m))\n\u001b[1;32m---> 75\u001b[0m \u001b[39mreturn\u001b[39;00m np\u001b[39m.\u001b[39mlinalg\u001b[39m.\u001b[39mnorm(face_encodings \u001b[39m-\u001b[39;49m face_to_compare, axis\u001b[39m=\u001b[39m\u001b[39m1\u001b[39m)\n",
      "\u001b[1;31mUFuncTypeError\u001b[0m: ufunc 'subtract' did not contain a loop with signature matching types (dtype('float64'), dtype('<U1552')) -> None"
     ]
    }
   ],
   "source": [
    "fd=cv2.CascadeClassifier(\n",
    "    cv2.data.haarcascades +\n",
    "    'haarcascade_frontalface_default.xml'\n",
    ")\n",
    "vid = cv2.VideoCapture(0)\n",
    "face_data = pd.read_csv('face_data.csv', index_col=0)\n",
    "while True:\n",
    "    flag, img = vid.read()\n",
    "    if flag:\n",
    "        img_gray = cv2.cvtColor(img, cv2.COLOR_BGR2GRAY)\n",
    "        faces = fd.detectMultiScale(\n",
    "            img_gray,\n",
    "            scaleFactor = 1.1,\n",
    "            minNeighbors = 5,\n",
    "            minSize = (50,50)\n",
    "        )\n",
    "\n",
    "        if len(faces) == 1:\n",
    "            x,y,w,h = faces[0]\n",
    "            img_face = img[y:y+h,x:x+w,:].copy()\n",
    "            img_face = cv2.resize(img_face,(400,400), cv2.INTER_CUBIC)\n",
    "            face_encoding = fr.face_encodings(img_face)\n",
    "            if len(face_encoding) == 1:\n",
    "                for ind,  in face_data.iterrows():\n",
    "                    matched = fr.compare_faces(\n",
    "                        face_encoding, face_db['encoding']\n",
    "                    )\n",
    "                    if matched:\n",
    "                        print(face_db['name'])\n",
    "            \n",
    "        for x,y,w,h in faces:\n",
    "            cv2.rectangle(\n",
    "                img, \n",
    "                pt1=(x,y), pt2=(x+w, y+h), \n",
    "                color = (0,0,255),\n",
    "                thickness=8\n",
    "            )\n",
    "        cv2.imshow('Preview', img)\n",
    "        key = cv2.waitKey(1)\n",
    "        if key == ord('q'):\n",
    "            break\n",
    "\n",
    "cv2.destroyAllWindows()\n",
    "cv2.waitKey(1)\n",
    "vid.release()"
   ]
  },
  {
   "cell_type": "code",
   "execution_count": null,
   "metadata": {},
   "outputs": [],
   "source": [
    "name = 'Peeyush Sanam'\n",
    "enc = []"
   ]
  },
  {
   "cell_type": "code",
   "execution_count": null,
   "metadata": {},
   "outputs": [],
   "source": [
    "names = []"
   ]
  },
  {
   "cell_type": "code",
   "execution_count": null,
   "metadata": {},
   "outputs": [],
   "source": [
    "encoding = [3,4,5,6,78]"
   ]
  },
  {
   "cell_type": "code",
   "execution_count": null,
   "metadata": {},
   "outputs": [],
   "source": [
    "enc.append(encoding)"
   ]
  },
  {
   "cell_type": "code",
   "execution_count": null,
   "metadata": {},
   "outputs": [],
   "source": [
    "names.append(name)"
   ]
  },
  {
   "cell_type": "code",
   "execution_count": null,
   "metadata": {},
   "outputs": [
    {
     "data": {
      "text/plain": [
       "[[3, 4, 5, 6, 78], [3, 4, 5, 6, 78]]"
      ]
     },
     "execution_count": 14,
     "metadata": {},
     "output_type": "execute_result"
    }
   ],
   "source": [
    "enc"
   ]
  },
  {
   "cell_type": "code",
   "execution_count": null,
   "metadata": {},
   "outputs": [
    {
     "data": {
      "text/plain": [
       "['Peeyush Sanam', 'Peeyush Sanam']"
      ]
     },
     "execution_count": 19,
     "metadata": {},
     "output_type": "execute_result"
    }
   ],
   "source": [
    "names"
   ]
  },
  {
   "cell_type": "code",
   "execution_count": null,
   "metadata": {},
   "outputs": [],
   "source": [
    "data = {'names': names, 'encoding':enc}"
   ]
  },
  {
   "cell_type": "code",
   "execution_count": null,
   "metadata": {},
   "outputs": [
    {
     "data": {
      "text/plain": [
       "{'names': ['Peeyush Sanam', 'Peeyush Sanam'],\n",
       " 'encoding': [[3, 4, 5, 6, 78], [3, 4, 5, 6, 78]]}"
      ]
     },
     "execution_count": 21,
     "metadata": {},
     "output_type": "execute_result"
    }
   ],
   "source": [
    "data"
   ]
  },
  {
   "cell_type": "code",
   "execution_count": null,
   "metadata": {},
   "outputs": [],
   "source": [
    "import pandas as pd\n",
    "pd.DataFrame(data).to_csv('face_data.csv')"
   ]
  },
  {
   "cell_type": "code",
   "execution_count": null,
   "metadata": {},
   "outputs": [],
   "source": []
  }
 ],
 "metadata": {
  "kernelspec": {
   "display_name": "Python 3.10.7 64-bit",
   "language": "python",
   "name": "python3"
  },
  "language_info": {
   "codemirror_mode": {
    "name": "ipython",
    "version": 3
   },
   "file_extension": ".py",
   "mimetype": "text/x-python",
   "name": "python",
   "nbconvert_exporter": "python",
   "pygments_lexer": "ipython3",
   "version": "3.10.5"
  },
  "orig_nbformat": 4,
  "vscode": {
   "interpreter": {
    "hash": "aee8b7b246df8f9039afb4144a1f6fd8d2ca17a180786b69acc140d282b71a49"
   }
  }
 },
 "nbformat": 4,
 "nbformat_minor": 2
}
