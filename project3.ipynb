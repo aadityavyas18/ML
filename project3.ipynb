{
 "cells": [
  {
   "cell_type": "code",
   "execution_count": 1,
   "metadata": {},
   "outputs": [],
   "source": [
    "import cv2\n",
    "vid=cv2.VideoCapture(0)\n",
    "fd= cv2.CascadeClassifier(cv2.data.haarcascades+'haarcascade_frontalface_default.xml')\n",
    "\n",
    "frameCount=0\n",
    "name=input('enter file name:')\n",
    "while True:\n",
    "    flag, img=vid.read()\n",
    "    if flag:\n",
    "        faces=fd.detectMultiScale(\n",
    "            cv2.cvtColor(img,cv2.COLOR_BGR2GRAY),scaleFactor=1.1,minNeighbors=5,minSize=(50,50))\n",
    "        if len(faces)==1:\n",
    "            x,y,w,h=faces[0]\n",
    "            img_face=img[y:y+h,x:x+w,:].copy()\n",
    "            cv2.imwrite(f'{name}_{frameCount}.png',img_face)\n",
    "            frameCount+=1\n",
    "            \n",
    "            if frameCount==20:\n",
    "                break\n",
    "\n",
    "        cv2.imshow('preview',img)\n",
    "        key=cv2.waitKey(1)\n",
    "        if key==ord('x'):\n",
    "            break\n",
    "cv2.destroyAllWindows()\n",
    "vid.release()\n"
   ]
  },
  {
   "cell_type": "code",
   "execution_count": null,
   "metadata": {},
   "outputs": [],
   "source": []
  }
 ],
 "metadata": {
  "kernelspec": {
   "display_name": "Python 3",
   "language": "python",
   "name": "python3"
  },
  "language_info": {
   "codemirror_mode": {
    "name": "ipython",
    "version": 3
   },
   "file_extension": ".py",
   "mimetype": "text/x-python",
   "name": "python",
   "nbconvert_exporter": "python",
   "pygments_lexer": "ipython3",
   "version": "3.10.10"
  },
  "orig_nbformat": 4
 },
 "nbformat": 4,
 "nbformat_minor": 2
}
