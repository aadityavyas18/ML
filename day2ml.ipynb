{
 "cells": [
  {
   "cell_type": "code",
   "execution_count": 17,
   "metadata": {},
   "outputs": [],
   "source": [
    "import cv2\n",
    "import matplotlib.pyplot as plt\n",
    "\n"
   ]
  },
  {
   "cell_type": "code",
   "execution_count": 18,
   "metadata": {},
   "outputs": [
    {
     "data": {
      "text/plain": [
       "< cv2.VideoCapture 00000162C3DFED90>"
      ]
     },
     "execution_count": 18,
     "metadata": {},
     "output_type": "execute_result"
    }
   ],
   "source": [
    "vid=cv2.VideoCapture(0)\n",
    "vid"
   ]
  },
  {
   "cell_type": "code",
   "execution_count": 19,
   "metadata": {},
   "outputs": [
    {
     "data": {
      "text/plain": [
       "False"
      ]
     },
     "execution_count": 19,
     "metadata": {},
     "output_type": "execute_result"
    }
   ],
   "source": [
    "vid.isOpened()"
   ]
  },
  {
   "cell_type": "code",
   "execution_count": 20,
   "metadata": {},
   "outputs": [],
   "source": [
    "k=vid.read()"
   ]
  },
  {
   "cell_type": "code",
   "execution_count": 21,
   "metadata": {},
   "outputs": [
    {
     "data": {
      "text/plain": [
       "(False, None)"
      ]
     },
     "execution_count": 21,
     "metadata": {},
     "output_type": "execute_result"
    }
   ],
   "source": [
    "k"
   ]
  },
  {
   "cell_type": "code",
   "execution_count": 22,
   "metadata": {},
   "outputs": [],
   "source": [
    "flag,img=vid.read()"
   ]
  },
  {
   "cell_type": "code",
   "execution_count": 23,
   "metadata": {},
   "outputs": [],
   "source": [
    "if flag:\n",
    "    plt.imshow(img[:,::-1,::-1])"
   ]
  },
  {
   "cell_type": "code",
   "execution_count": 24,
   "metadata": {},
   "outputs": [],
   "source": [
    "vid.release()"
   ]
  },
  {
   "cell_type": "code",
   "execution_count": null,
   "metadata": {},
   "outputs": [],
   "source": []
  },
  {
   "cell_type": "markdown",
   "metadata": {},
   "source": []
  },
  {
   "attachments": {},
   "cell_type": "markdown",
   "metadata": {},
   "source": [
    "for capturing the image from the camera "
   ]
  },
  {
   "cell_type": "code",
   "execution_count": 25,
   "metadata": {},
   "outputs": [],
   "source": [
    "for i in range(100):\n",
    "    flag,img=vid.read()\n",
    "    if flag:\n",
    "        cv2.imshow('Preview',img)\n",
    "        cv2.waitKey(1)\n",
    "        # wait for 1 second\n",
    "        # cv2.destroyAllWindows()\n",
    "        # it will show the video\n",
    "\n",
    "        # for closing the camera use this function\n",
    "        # vid.release()"
   ]
  },
  {
   "cell_type": "code",
   "execution_count": 26,
   "metadata": {},
   "outputs": [],
   "source": [
    "\n",
    "from time import sleep"
   ]
  },
  {
   "cell_type": "code",
   "execution_count": 27,
   "metadata": {},
   "outputs": [],
   "source": [
    "while True:\n",
    "    flag,img=vid.read()\n",
    "    if flag:\n",
    "        cv2.imshow('Preview',img)\n",
    "        key1 = int (cv2.waitKey(1))\n",
    "        if key1 == ord('x'):\n",
    "            # press x for closing the function\n",
    "            break\n",
    "    else:\n",
    "        break    \n",
    "    sleep(0.1)    \n",
    "vid.release()\n",
    "cv2.destroyAllWindows()        \n"
   ]
  },
  {
   "cell_type": "code",
   "execution_count": 28,
   "metadata": {},
   "outputs": [],
   "source": [
    "vid.release()"
   ]
  },
  {
   "cell_type": "code",
   "execution_count": 29,
   "metadata": {},
   "outputs": [
    {
     "ename": "KeyboardInterrupt",
     "evalue": "",
     "output_type": "error",
     "traceback": [
      "\u001b[1;31m---------------------------------------------------------------------------\u001b[0m",
      "\u001b[1;31mKeyboardInterrupt\u001b[0m                         Traceback (most recent call last)",
      "\u001b[1;32md:\\ML\\day2ml.ipynb Cell 16\u001b[0m in \u001b[0;36m<cell line: 4>\u001b[1;34m()\u001b[0m\n\u001b[0;32m     <a href='vscode-notebook-cell:/d%3A/ML/day2ml.ipynb#X21sZmlsZQ%3D%3D?line=10'>11</a>\u001b[0m         \u001b[39mif\u001b[39;00m key1 \u001b[39m==\u001b[39m \u001b[39mord\u001b[39m(\u001b[39m'\u001b[39m\u001b[39mx\u001b[39m\u001b[39m'\u001b[39m):\n\u001b[0;32m     <a href='vscode-notebook-cell:/d%3A/ML/day2ml.ipynb#X21sZmlsZQ%3D%3D?line=11'>12</a>\u001b[0m             \u001b[39mbreak\u001b[39;00m   \n\u001b[1;32m---> <a href='vscode-notebook-cell:/d%3A/ML/day2ml.ipynb#X21sZmlsZQ%3D%3D?line=12'>13</a>\u001b[0m     sleep(\u001b[39m0.1\u001b[39;49m)    \n\u001b[0;32m     <a href='vscode-notebook-cell:/d%3A/ML/day2ml.ipynb#X21sZmlsZQ%3D%3D?line=13'>14</a>\u001b[0m vid\u001b[39m.\u001b[39mrelease()\n\u001b[0;32m     <a href='vscode-notebook-cell:/d%3A/ML/day2ml.ipynb#X21sZmlsZQ%3D%3D?line=14'>15</a>\u001b[0m cv2\u001b[39m.\u001b[39mdestroyAllWindows()\n",
      "\u001b[1;31mKeyboardInterrupt\u001b[0m: "
     ]
    }
   ],
   "source": [
    "import cv2\n",
    "from time import sleep\n",
    "vid = cv2.VideoCapture(0)\n",
    "while True:\n",
    "    flag,img=vid.read()\n",
    "    if flag:\n",
    "        img_gray=cv2.cvtColor(img,cv2.COLOR_BGR2GRAY)\n",
    "        # cv2.imshow('Preview',img_gray)\n",
    "        cv2.imshow('Preview',img[200:400,200:600,:])\n",
    "        key1 = int (cv2.waitKey(1))\n",
    "        if key1 == ord('x'):\n",
    "            break   \n",
    "    sleep(0.1)    \n",
    "vid.release()\n",
    "cv2.destroyAllWindows() \n",
    "        \n",
    "                  "
   ]
  },
  {
   "cell_type": "code",
   "execution_count": null,
   "metadata": {},
   "outputs": [],
   "source": []
  },
  {
   "cell_type": "code",
   "execution_count": null,
   "metadata": {},
   "outputs": [],
   "source": [
    "import cv2\n",
    "from time import sleep\n",
    "vid = cv2.VideoCapture(0)\n",
    "while True:\n",
    "    flag,img=vid.read()\n",
    "    if flag:\n",
    "        img_gray=cv2.cvtColor(img,cv2.COLOR_BGR2GRAY)\n",
    "        x1,y1,w,h=(200,400,300,400)\n",
    "        # cv2.imshow('Preview',img_gray)\n",
    "        cv2.rectangle(\n",
    "            img,\n",
    "            pt1=(x1,y1),pt2=(x1+w,y1+h),\n",
    "            color=(0,0,255),thickness=10\n",
    "        )\n",
    "        cv2.imshow('Preview',img)\n",
    "        key1 = int (cv2.waitKey(1))\n",
    "        if key1 == ord('x'):\n",
    "            break   \n",
    "    sleep(0.1)    \n",
    "vid.release()\n",
    "cv2.destroyAllWindows() "
   ]
  },
  {
   "attachments": {},
   "cell_type": "markdown",
   "metadata": {},
   "source": [
    "haarcascade open cv"
   ]
  },
  {
   "cell_type": "code",
   "execution_count": 30,
   "metadata": {},
   "outputs": [
    {
     "ename": "KeyboardInterrupt",
     "evalue": "",
     "output_type": "error",
     "traceback": [
      "\u001b[1;31m---------------------------------------------------------------------------\u001b[0m",
      "\u001b[1;31mKeyboardInterrupt\u001b[0m                         Traceback (most recent call last)",
      "\u001b[1;32md:\\ML\\day2ml.ipynb Cell 20\u001b[0m in \u001b[0;36m<cell line: 10>\u001b[1;34m()\u001b[0m\n\u001b[0;32m     <a href='vscode-notebook-cell:/d%3A/ML/day2ml.ipynb#X25sZmlsZQ%3D%3D?line=30'>31</a>\u001b[0m         \u001b[39mif\u001b[39;00m key1 \u001b[39m==\u001b[39m \u001b[39mord\u001b[39m(\u001b[39m'\u001b[39m\u001b[39mx\u001b[39m\u001b[39m'\u001b[39m):\n\u001b[0;32m     <a href='vscode-notebook-cell:/d%3A/ML/day2ml.ipynb#X25sZmlsZQ%3D%3D?line=31'>32</a>\u001b[0m             \u001b[39mbreak\u001b[39;00m   \n\u001b[1;32m---> <a href='vscode-notebook-cell:/d%3A/ML/day2ml.ipynb#X25sZmlsZQ%3D%3D?line=32'>33</a>\u001b[0m     sleep(\u001b[39m0.1\u001b[39;49m)    \n\u001b[0;32m     <a href='vscode-notebook-cell:/d%3A/ML/day2ml.ipynb#X25sZmlsZQ%3D%3D?line=33'>34</a>\u001b[0m vid\u001b[39m.\u001b[39mrelease()\n\u001b[0;32m     <a href='vscode-notebook-cell:/d%3A/ML/day2ml.ipynb#X25sZmlsZQ%3D%3D?line=34'>35</a>\u001b[0m cv2\u001b[39m.\u001b[39mdestroyAllWindows()\n",
      "\u001b[1;31mKeyboardInterrupt\u001b[0m: "
     ]
    }
   ],
   "source": [
    "import cv2\n",
    "from time import sleep\n",
    "fd=cv2.CascadeClassifier(\n",
    "    cv2.data.haarcascades+'haarcascade_frontalface_default.xml'\n",
    ")\n",
    "sd=cv2.CascadeClassifier(\n",
    "    cv2.data.haarcascades+'haarcascade_smile.xml'\n",
    ")\n",
    "vid = cv2.VideoCapture(0)\n",
    "captured =False\n",
    "seq=0\n",
    "old_seq=0\n",
    "while not captured:\n",
    "    flag,img=vid.read()\n",
    "    if flag:\n",
    "        img_gray=cv2.cvtColor(img,cv2.COLOR_BGR2GRAY)\n",
    "        faces=fd.detectMultiScale(img_gray,scaleFactor=1.1,minNeighbors=5,minSize=(180,180))\n",
    "        for x1,y1,w,h in faces:\n",
    "            \n",
    "            face=img_gray[y1:y1+h,x1:x1+w].copy()\n",
    "            smiles=sd.detectMultiScale(face,1.1,5,minSize=(20,20))\n",
    "            \n",
    "            if(len(smiles)==1):\n",
    "                seq += 1\n",
    "                if(seq==5):\n",
    "                    captured=cv2.imwrite('pic.png',img)\n",
    "                    break\n",
    "                xs,ys,ws,hs=smiles[0]\n",
    "                cv2.rectangle(img,pt1=(xs+x1,ys+y1),pt2=(xs+ws+x1,ys+hs+y1),color=(0,0,255),thickness=10)\n",
    "            else:\n",
    "                seq=0\n",
    "            cv2.rectangle(\n",
    "            img,\n",
    "            pt1=(x1,y1),pt2=(x1+w,y1+h),\n",
    "            color=(0,0,255),thickness=10\n",
    "            )\n",
    "        cv2.imshow('Preview',img)\n",
    "        key1 = int (cv2.waitKey(1))\n",
    "        if key1 == ord('x'):\n",
    "            break   \n",
    "        \n",
    "            \n",
    "    sleep(0.1)    \n",
    "vid.release()\n",
    "cv2.destroyAllWindows() \n"
   ]
  },
  {
   "cell_type": "code",
   "execution_count": null,
   "metadata": {},
   "outputs": [],
   "source": []
  },
  {
   "cell_type": "code",
   "execution_count": null,
   "metadata": {},
   "outputs": [],
   "source": []
  }
 ],
 "metadata": {
  "kernelspec": {
   "display_name": "Python 3",
   "language": "python",
   "name": "python3"
  },
  "language_info": {
   "codemirror_mode": {
    "name": "ipython",
    "version": 3
   },
   "file_extension": ".py",
   "mimetype": "text/x-python",
   "name": "python",
   "nbconvert_exporter": "python",
   "pygments_lexer": "ipython3",
   "version": "3.10.5"
  },
  "orig_nbformat": 4,
  "vscode": {
   "interpreter": {
    "hash": "c19fa61d258bb2b35aae2ada233c33e2817c1ce895aa48acba720c6bf7cbe3cb"
   }
  }
 },
 "nbformat": 4,
 "nbformat_minor": 2
}
